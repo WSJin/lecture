{
 "cells": [
  {
   "cell_type": "code",
   "execution_count": 2,
   "metadata": {},
   "outputs": [
    {
     "name": "stdout",
     "output_type": "stream",
     "text": [
      "짝수입니다.\n"
     ]
    }
   ],
   "source": [
    "num = int(input('숫자를 입력하세요 : '))\n",
    "\n",
    "# if statement\n",
    "# num이 홀수라면 (2로 나눈 나머지가 1이라면)\n",
    "if num % 2 == 1:\n",
    "\n",
    "# if num % 2:\n",
    "    print('홀수입니다.')\n",
    "# num이 홀수가 아니라면(짝수면)\n",
    "else:\n",
    "    print('짝수입니다.')\n"
   ]
  },
  {
   "cell_type": "code",
   "execution_count": null,
   "metadata": {},
   "outputs": [],
   "source": [
    "# for 문 원리\n",
    "\n",
    "items = ['apple', 'banana', 'coconut']\n",
    "\n",
    "for item in items:\n",
    "    print(item)\n",
    "\n",
    "\"\"\"\n",
    "apple\n",
    "banana\n",
    "coconut\n",
    "\"\"\""
   ]
  },
  {
   "cell_type": "code",
   "execution_count": null,
   "metadata": {},
   "outputs": [],
   "source": [
    "# 문자열 순회\n",
    "\n",
    "country = 'Korea'\n",
    "\n",
    "for char in country:\n",
    "    print(char)\n",
    "\n",
    "\"\"\"\n",
    "K\n",
    "o\n",
    "r\n",
    "e\n",
    "a\n",
    "\"\"\""
   ]
  },
  {
   "cell_type": "code",
   "execution_count": 3,
   "metadata": {},
   "outputs": [
    {
     "ename": "SyntaxError",
     "evalue": "invalid syntax (3476214930.py, line 3)",
     "output_type": "error",
     "traceback": [
      "\u001b[1;36m  Cell \u001b[1;32mIn[3], line 3\u001b[1;36m\u001b[0m\n\u001b[1;33m    for i in range\u001b[0m\n\u001b[1;37m                  ^\u001b[0m\n\u001b[1;31mSyntaxError\u001b[0m\u001b[1;31m:\u001b[0m invalid syntax\n"
     ]
    }
   ],
   "source": [
    "# range 순회\n",
    "\n",
    "for i in range(5):\n",
    "    print(i)\n",
    "\n",
    "\"\"\"\n",
    "0\n",
    "1\n",
    "2\n",
    "3\n",
    "4\n",
    "\"\"\""
   ]
  },
  {
   "cell_type": "code",
   "execution_count": 4,
   "metadata": {},
   "outputs": [
    {
     "name": "stdout",
     "output_type": "stream",
     "text": [
      "[8, 12, 20, -16, 10]\n"
     ]
    }
   ],
   "source": [
    "# 인덱스로 리스트 순회\n",
    "# 리스트의 요소가 아닌 인덱스로 접근하여 해당요소들을 변경\n",
    "# 다양한 길이의 리스트가 주어졌을 때 len 사용\n",
    "\n",
    "numbers = [4, 6, 10, -8, 5]\n",
    "\n",
    "for i in range(len(numbers)):\n",
    "    numbers[i] = numbers[i] * 2\n",
    "\n",
    "print(numbers)"
   ]
  },
  {
   "cell_type": "code",
   "execution_count": 5,
   "metadata": {},
   "outputs": [],
   "source": [
    "# 중첩된 반복문\n",
    "# 안쪽 반복문은 outers 리스트의 각 항목에 대해 한 번씩 실행됨\n",
    "# print가 호출되는 횟수 => len(outers) * len(inners)\n",
    "# 여기서는 4번 발생\n",
    "\n",
    "outers = ['A', 'B']\n",
    "inners = ['c', 'd']\n",
    "\n",
    "for outer in outers:\n",
    "    for inner in inners:\n",
    "        print(outer, inner)\n",
    "\n",
    "\"\"\"\n",
    "A c\n",
    "A d\n",
    "B c\n",
    "B d\n",
    "\"\"\""
   ]
  },
  {
   "cell_type": "code",
   "execution_count": 6,
   "metadata": {},
   "outputs": [
    {
     "name": "stdout",
     "output_type": "stream",
     "text": [
      "['A', 'B']\n",
      "['c', 'd']\n",
      "A\n",
      "B\n",
      "c\n",
      "d\n"
     ]
    }
   ],
   "source": [
    "# 중첩 리스트 순회\n",
    "# 안쪽 리스트요소에 접근하려면 바깥 리스트를 순회하면서 중첩반복을 사용해\n",
    "# 각 안쪽 반복을 순회\n",
    "\n",
    "elements = [['A', 'B'], ['c', 'd']]\n",
    "\n",
    "for elem in elements:\n",
    "    print(elem)\n",
    "\n",
    "\"\"\"\n",
    "['A', 'B']\n",
    "['c', 'd']\n",
    "\"\"\"\n",
    "\n",
    "elements = [['A', 'B'], ['c', 'd']]\n",
    "\n",
    "for elem in elements:\n",
    "    for item in elem:\n",
    "        print(item)\n",
    "\n",
    "\"\"\"\n",
    "A\n",
    "B\n",
    "c\n",
    "d\n",
    "\"\"\""
   ]
  },
  {
   "cell_type": "code",
   "execution_count": 8,
   "metadata": {},
   "outputs": [],
   "source": [
    "# while : 주어진 조건식이 참(True)인 동안 코드를 반복해서 실행\n",
    "# == 조건식이 거짓(False)가 될 때까지 반복\n",
    "# 거짓이 될 때까지라고 생각하고 접근하는게 편함\n",
    "\n",
    "# [while statement의 기본구조]\n",
    "# while 조건식:\n",
    "#   코드 블록\n"
   ]
  },
  {
   "cell_type": "code",
   "execution_count": 7,
   "metadata": {},
   "outputs": [
    {
     "name": "stdout",
     "output_type": "stream",
     "text": [
      "0\n",
      "1\n",
      "2\n",
      "끝\n"
     ]
    }
   ],
   "source": [
    "# while 반복문 예시\n",
    "\n",
    "a = 0\n",
    "\n",
    "while a < 3:\n",
    "    print(a)\n",
    "    a += 1\n",
    "\n",
    "print('끝')\n",
    "\n",
    "\"\"\"\n",
    "0\n",
    "1\n",
    "2\n",
    "끝\n",
    "\"\"\"\n"
   ]
  },
  {
   "cell_type": "code",
   "execution_count": 9,
   "metadata": {},
   "outputs": [
    {
     "name": "stdout",
     "output_type": "stream",
     "text": [
      "0은 양의 정수가 아닙니다.\n",
      "음수를 입력했습니다.\n",
      "잘했습니다!\n"
     ]
    },
    {
     "data": {
      "text/plain": [
       "'\\n\\n'"
      ]
     },
     "execution_count": 9,
     "metadata": {},
     "output_type": "execute_result"
    }
   ],
   "source": [
    "# 사용자 입력에 따른 반복\n",
    "# while문을 사용한 특정 입력 값에 대한 종료조건 활용하기\n",
    "\n",
    "number = int(input('양의 정수를 입력해주세요.: '))\n",
    "\n",
    "while number <= 0:\n",
    "    if number <0:\n",
    "        print('음수를 입력했습니다.')\n",
    "    else:\n",
    "        print('0은 양의 정수가 아닙니다.')\n",
    "\n",
    "    number = int(input('양의 정수를 입력해주세요.: '))\n",
    "\n",
    "print('잘했습니다!')\n",
    "\n",
    "\"\"\"\n",
    "0은 양의 정수가 아닙니다.\n",
    "음수를 입력했습니다.\n",
    "잘했습니다!\n",
    "\"\"\""
   ]
  },
  {
   "cell_type": "code",
   "execution_count": null,
   "metadata": {},
   "outputs": [],
   "source": [
    "# while 문은 반드시 종료조건이 필요\n",
    "# for : iterable의 요소를 하나씩 순회하며 반복\n",
    "# - 반복횟수가 명확하게 정해져 있는 경우 유용\n",
    "# - 예를 들어 리스트, 튜플, 문자열 등과 같은 시퀀스 형식의 데이터를 처리할 때\n",
    "# while : 주어진 조건식이 참인 동안 반복\n",
    "# - 반복횟수가 불명확하거나 조건에 따라 반복을 종료해야 할 때 유용\n",
    "# - 예를 들어 사용자의 입력을 받아서 특정조건이 충족될 때까지 반복하는 경우\n"
   ]
  },
  {
   "cell_type": "code",
   "execution_count": null,
   "metadata": {},
   "outputs": [],
   "source": [
    "# 반복제어 : for문과 while문은 매 반복마다 본문 내 모든 코드를 실행하지만\n",
    "# 때때로 일부만 실행하는 것이 필요할 때가 있음\n"
   ]
  },
  {
   "cell_type": "code",
   "execution_count": 10,
   "metadata": {},
   "outputs": [
    {
     "name": "stdout",
     "output_type": "stream",
     "text": [
      "음수를 입력했습니다.\n",
      "프로그램을 종료합니다.\n",
      "잘했습니다!\n"
     ]
    }
   ],
   "source": [
    "# break \n",
    "# 프로그램 종료조건 만들기\n",
    "\n",
    "number = int(input('양의 정수를 입력해주세요.: '))\n",
    "\n",
    "while number <= 0:\n",
    "    if number == -9999:\n",
    "        print('프로그램을 종료합니다.')\n",
    "        break\n",
    "\n",
    "    if number < 0:\n",
    "        print('음수를 입력했습니다.')\n",
    "    else:\n",
    "        print('0은 양의 정수가 아닙니다.')\n",
    "\n",
    "    number = int(input('양의 정수를 입력해주세요.: '))\n",
    "\n",
    "print('잘했습니다!')\n",
    "\n",
    "\"\"\"\n",
    "양의 정수를 입력해주세요.: -9999\n",
    "프로그램을 종료합니다.\n",
    "잘했습니다!\n",
    "\"\"\""
   ]
  },
  {
   "cell_type": "code",
   "execution_count": 11,
   "metadata": {},
   "outputs": [
    {
     "name": "stdout",
     "output_type": "stream",
     "text": [
      "첫 번째 짝수를 찾았습니다: 6\n"
     ]
    }
   ],
   "source": [
    "# break 예시2\n",
    "\n",
    "numbers = [1,3,5,6,7,9,10,11]\n",
    "found_even = False\n",
    "\n",
    "for num in numbers:\n",
    "    if num % 2 == 0:\n",
    "        print('첫 번째 짝수를 찾았습니다:', num)\n",
    "        found_even = True\n",
    "        break\n",
    "if not found_even:\n",
    "    print('W짝수를 찾지 못했습니다')\n",
    "\n",
    "    \"\"\"\n",
    "    첫 번째 짝수를 찾았습니다: 6\n",
    "    \"\"\""
   ]
  },
  {
   "cell_type": "code",
   "execution_count": 12,
   "metadata": {},
   "outputs": [
    {
     "name": "stdout",
     "output_type": "stream",
     "text": [
      "1\n",
      "3\n",
      "5\n",
      "7\n",
      "9\n"
     ]
    }
   ],
   "source": [
    "# continue 예시\n",
    "# continue는 다음 반복으로 건너뛰는 거임\n",
    "# 리스트에서 홀수만 출력하기\n",
    "# * 현재 반복문의 남은 코드를 건너뛰고 다음 반복으로 넘어감\n",
    "\n",
    "numbers = [1,2,3,4,5,6,7,8,9,10]\n",
    "\n",
    "for num in numbers:\n",
    "    if num % 2 == 0:\n",
    "        continue\n",
    "    print(num)\n",
    "\n",
    "\"\"\"\n",
    "1\n",
    "3\n",
    "5\n",
    "7\n",
    "9\n",
    "\"\"\""
   ]
  },
  {
   "cell_type": "code",
   "execution_count": null,
   "metadata": {},
   "outputs": [],
   "source": [
    "# break와 continue 주의사항\n",
    "# break와 continue를 남용하는 것은 코드의 가독성을 저하시킬 수 있음\n",
    "# * 특정한 종료조건을 만들어 break를 대신하거나, \n",
    "# if 문을 사용해 continue처럼 코드를 건너뛸 수도 있음\n",
    "# 약간의 시간이 들더라도 가능한 코드의 가독성을 유지하고 코드의 의도를 \n",
    "# 명확하게 작성하도록 노력하는 것이 중요\n",
    "\n",
    "for number in range(1, 5):\n",
    "    # if number == 3:\n",
    "    #     continue\n",
    "    if number != 3:\n",
    "        print(number)\n",
    "\n",
    "\"\"\"\n",
    "1\n",
    "2\n",
    "4\n",
    "\"\"\""
   ]
  },
  {
   "cell_type": "code",
   "execution_count": null,
   "metadata": {},
   "outputs": [],
   "source": [
    "# List Comprehension : 간결하고 효율적인 리스트 생성방법\n",
    "# List Comprehension 구조\n",
    "# [expression for 변수 in iterable]\n",
    "# List(expression for 변수 in iterable)\n"
   ]
  },
  {
   "cell_type": "code",
   "execution_count": null,
   "metadata": {},
   "outputs": [],
   "source": [
    "# List Comprehension 활용\n",
    "\n",
    "numbers = [1,2,3,4,5]\n",
    "# squared_numbers = []\n",
    "\n",
    "# for num in numbers:\n",
    "#     squared_numbers.append(num**2)\n",
    "\n",
    "squared_numbers = [num**2 for num in numbers]\n",
    "\n",
    "print(squared_numbers) # [1, 4, 9, 16, 25]"
   ]
  },
  {
   "cell_type": "code",
   "execution_count": null,
   "metadata": {},
   "outputs": [],
   "source": [
    "# List Comprehension과 if 조건문\n",
    "# [expression for 변수 in iterable if 조건식]\n",
    "# list(expression for 변수 in iterable if 조건식)"
   ]
  },
  {
   "cell_type": "code",
   "execution_count": 18,
   "metadata": {},
   "outputs": [
    {
     "ename": "SyntaxError",
     "evalue": "invalid syntax (2537095153.py, line 10)",
     "output_type": "error",
     "traceback": [
      "\u001b[1;36m  Cell \u001b[1;32mIn[18], line 10\u001b[1;36m\u001b[0m\n\u001b[1;33m    new_list_2 = [i for i in range(10) if i % 2 == 1:]\u001b[0m\n\u001b[1;37m                                                    ^\u001b[0m\n\u001b[1;31mSyntaxError\u001b[0m\u001b[1;31m:\u001b[0m invalid syntax\n"
     ]
    }
   ],
   "source": [
    "# 0~9 요소를 가지는 리스트 만들기 \n",
    "\n",
    "new_list = []\n",
    "for i in range(10):\n",
    "        if i % 2 ==1:\n",
    "            new_list.append(i)\n",
    "print(new_list)\n",
    "\n",
    "# 2. list comprehension\n",
    "new_list_2 = [i for i in range(10) if i % 2 == 1]\n",
    "new_list_3 = [i if i%2 == 1 else str(i) for i in range(10)]\n",
    "print(new_list_2)"
   ]
  },
  {
   "cell_type": "code",
   "execution_count": null,
   "metadata": {},
   "outputs": [],
   "source": [
    "# pass : 아무런 동작도 수행하지 않고 넘어가는 역할\n",
    "# 문법적으로 문장이 필요하지만 프로그램 실행헤는 영향을 주지 않아야 할 때 사용"
   ]
  },
  {
   "cell_type": "code",
   "execution_count": 20,
   "metadata": {},
   "outputs": [
    {
     "ename": "IndentationError",
     "evalue": "expected an indented block (725397150.py, line 16)",
     "output_type": "error",
     "traceback": [
      "\u001b[1;36m  Cell \u001b[1;32mIn[20], line 16\u001b[1;36m\u001b[0m\n\u001b[1;33m    while True:\u001b[0m\n\u001b[1;37m    ^\u001b[0m\n\u001b[1;31mIndentationError\u001b[0m\u001b[1;31m:\u001b[0m expected an indented block\n"
     ]
    }
   ],
   "source": [
    "# pass 예시 1\n",
    "# 코드 작성 중 미완성 부분\n",
    "# 구현해야할 부분이 나중에 추가될 수 있고 코드를 컴파일하는 동안 오류가 발생하지 않음\n",
    "def my_function():\n",
    "    pass\n",
    "\n",
    "# pass 예시 2\n",
    "# 조건문에서 아무런 동작을 수행하지 않아야 할 때\n",
    "if condition:\n",
    "    pass # 아무런 동작도 수행하지 않음\n",
    "else:\n",
    "    # 다른 동작 수행\n",
    "\n",
    "# pass 예시 3\n",
    "# 무한루프에서 조건이 충족되지 않을 때 pass를 사용하여 루프를 계속 진행하는 방법\n",
    "while True:\n",
    "    if condition:\n",
    "        break\n",
    "    elif condition:\n",
    "        pass # 루프 계속 진행\n",
    "    else:\n",
    "        print('..')"
   ]
  },
  {
   "cell_type": "code",
   "execution_count": null,
   "metadata": {},
   "outputs": [],
   "source": [
    "# enumerate(iterable, start=0)\n",
    "# iterable 객체의 각 요소에 대해 인덱스와 함께 반환하는 내장함수"
   ]
  },
  {
   "cell_type": "code",
   "execution_count": 21,
   "metadata": {},
   "outputs": [
    {
     "name": "stdout",
     "output_type": "stream",
     "text": [
      "인덱스 0: apple\n",
      "인덱스 1: banana\n",
      "인덱스 2: cherry\n"
     ]
    },
    {
     "data": {
      "text/plain": [
       "'\\n'"
      ]
     },
     "execution_count": 21,
     "metadata": {},
     "output_type": "execute_result"
    }
   ],
   "source": [
    "# enumerate 예시\n",
    "\n",
    "fruits = ['apple', 'banana', 'cherry']\n",
    "\n",
    "for index, fruit in enumerate(fruits):\n",
    "    print(f'인덱스 {index}: {fruit}')\n",
    "\n",
    "\"\"\"\n",
    "인덱스 0: apple\n",
    "인덱스 1: banana\n",
    "인덱스 2: cherry\n",
    "\"\"\""
   ]
  },
  {
   "cell_type": "code",
   "execution_count": 24,
   "metadata": {},
   "outputs": [
    {
     "name": "stdout",
     "output_type": "stream",
     "text": [
      "[1, 2, 3]\n",
      "[1, 2, 3]\n",
      "[1, 2, 3]\n"
     ]
    }
   ],
   "source": [
    "# 리스트를 생성하는 방법 3가지 비교\n",
    "# 제일 빠른 방법은?\n",
    "\n",
    "# 정수 1, 2, 3을 가지는 새로운 리스트 만들기\n",
    "\n",
    "# 1. for loop\n",
    "\n",
    "numbers = ['1', '2', '3']\n",
    "new_numbers = []\n",
    "for number in numbers:\n",
    "    new_numbers.append(int(number))\n",
    "print(new_numbers) # [1,2,3]\n",
    "\n",
    "# 2. map\n",
    "new_numbers_2 = list(map(int, numbers))\n",
    "print(new_numbers_2)\n",
    "\n",
    "# 3. list comprehension\n",
    "new_numbers_3 = [int(number) for number in numbers]\n",
    "print(new_numbers_3)\n"
   ]
  }
 ],
 "metadata": {
  "kernelspec": {
   "display_name": "Python 3",
   "language": "python",
   "name": "python3"
  },
  "language_info": {
   "codemirror_mode": {
    "name": "ipython",
    "version": 3
   },
   "file_extension": ".py",
   "mimetype": "text/x-python",
   "name": "python",
   "nbconvert_exporter": "python",
   "pygments_lexer": "ipython3",
   "version": "3.9.13"
  },
  "orig_nbformat": 4
 },
 "nbformat": 4,
 "nbformat_minor": 2
}
